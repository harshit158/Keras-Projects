{
 "cells": [
  {
   "cell_type": "code",
   "execution_count": 1,
   "metadata": {},
   "outputs": [
    {
     "name": "stderr",
     "output_type": "stream",
     "text": [
      "Using TensorFlow backend.\n"
     ]
    }
   ],
   "source": [
    "import keras\n",
    "import numpy as np\n",
    "from tqdm import tqdm_notebook"
   ]
  },
  {
   "cell_type": "code",
   "execution_count": 2,
   "metadata": {},
   "outputs": [],
   "source": [
    "from keras.datasets import imdb"
   ]
  },
  {
   "cell_type": "code",
   "execution_count": 3,
   "metadata": {},
   "outputs": [],
   "source": [
    "(train_data, train_labels), (test_data, test_labels) = imdb.load_data(num_words=10000)"
   ]
  },
  {
   "cell_type": "markdown",
   "metadata": {},
   "source": [
    "### Visualizing training samples"
   ]
  },
  {
   "cell_type": "code",
   "execution_count": 4,
   "metadata": {},
   "outputs": [
    {
     "data": {
      "application/vnd.jupyter.widget-view+json": {
       "model_id": "0e984f82fd954ebb8f2c25e350dd1749",
       "version_major": 2,
       "version_minor": 0
      },
      "text/plain": [
       "HBox(children=(IntProgress(value=0, max=88584), HTML(value=u'')))"
      ]
     },
     "metadata": {},
     "output_type": "display_data"
    },
    {
     "name": "stdout",
     "output_type": "stream",
     "text": [
      "\n"
     ]
    },
    {
     "data": {
      "text/plain": [
       "u\"? this film was just brilliant casting location scenery story direction everyone's really suited the part they played and you could just imagine being there robert ? is an amazing actor and now the same being director ? father came from the same scottish island as myself so i loved the fact there was a real connection with this film the witty remarks throughout the film were great it was just brilliant so much that i bought the film as soon as it was released for ? and would recommend it to everyone to watch and the fly fishing was amazing really cried at the end it was so sad and you know what they say if you cry at a film it must have been good and this definitely was also ? to the two little boy's that played the ? of norman and paul they were just brilliant children are often left out of the ? list i think because the stars that play them all grown up are such a big profile for the whole film but these children are amazing and should be praised for what they have done don't you think the whole story was so lovely because it was true and was someone's life after all that was shared with us all\""
      ]
     },
     "execution_count": 4,
     "metadata": {},
     "output_type": "execute_result"
    }
   ],
   "source": [
    "word_index = imdb.get_word_index()\n",
    "\n",
    "index_word = {y:x for x,y in tqdm_notebook(word_index.items())}\n",
    "\n",
    "' '.join([index_word.get(x-3,'?') for x in train_data[0]])"
   ]
  },
  {
   "cell_type": "markdown",
   "metadata": {},
   "source": [
    "### Vectorizing training samples to same lenght"
   ]
  },
  {
   "cell_type": "code",
   "execution_count": 5,
   "metadata": {},
   "outputs": [],
   "source": [
    "def vectorize_sequences(sequences, dimensions):\n",
    "    results = np.zeros((len(sequences), dimensions))\n",
    "    for i, seq in enumerate(tqdm_notebook(sequences)):\n",
    "        results[i, seq] = 1\n",
    "    return results"
   ]
  },
  {
   "cell_type": "code",
   "execution_count": 6,
   "metadata": {},
   "outputs": [
    {
     "data": {
      "application/vnd.jupyter.widget-view+json": {
       "model_id": "3b9f3185e75048719e11a7ea227bddd3",
       "version_major": 2,
       "version_minor": 0
      },
      "text/plain": [
       "HBox(children=(IntProgress(value=0, max=25000), HTML(value=u'')))"
      ]
     },
     "metadata": {},
     "output_type": "display_data"
    },
    {
     "name": "stdout",
     "output_type": "stream",
     "text": [
      "\n"
     ]
    },
    {
     "data": {
      "application/vnd.jupyter.widget-view+json": {
       "model_id": "78c8bb0685794015ba646060407a4ce0",
       "version_major": 2,
       "version_minor": 0
      },
      "text/plain": [
       "HBox(children=(IntProgress(value=0, max=25000), HTML(value=u'')))"
      ]
     },
     "metadata": {},
     "output_type": "display_data"
    },
    {
     "name": "stdout",
     "output_type": "stream",
     "text": [
      "\n"
     ]
    }
   ],
   "source": [
    "x_train = vectorize_sequences(train_data, 10000)\n",
    "x_test = vectorize_sequences(test_data, 10000)"
   ]
  },
  {
   "cell_type": "code",
   "execution_count": 9,
   "metadata": {},
   "outputs": [
    {
     "data": {
      "application/vnd.jupyter.widget-view+json": {
       "model_id": "c6cb60c5bf7643e3bffb1a66d9a1989c",
       "version_major": 2,
       "version_minor": 0
      },
      "text/plain": [
       "HBox(children=(IntProgress(value=0, max=25000), HTML(value=u'')))"
      ]
     },
     "metadata": {},
     "output_type": "display_data"
    },
    {
     "name": "stdout",
     "output_type": "stream",
     "text": [
      "\n"
     ]
    },
    {
     "data": {
      "application/vnd.jupyter.widget-view+json": {
       "model_id": "430221f882194af2a8eb5905463bd560",
       "version_major": 2,
       "version_minor": 0
      },
      "text/plain": [
       "HBox(children=(IntProgress(value=0, max=25000), HTML(value=u'')))"
      ]
     },
     "metadata": {},
     "output_type": "display_data"
    },
    {
     "name": "stdout",
     "output_type": "stream",
     "text": [
      "\n"
     ]
    }
   ],
   "source": [
    "# y_train = np.asarray(train_labels).astype('float32')\n",
    "# y_test = np.asarray(test_labels).astype('float32')\n",
    "\n",
    "y_train = vectorize_sequences(train_labels, 2)\n",
    "y_test = vectorize_sequences(test_labels, 2)"
   ]
  },
  {
   "cell_type": "code",
   "execution_count": 13,
   "metadata": {},
   "outputs": [
    {
     "data": {
      "text/plain": [
       "array([0., 1., 1., ..., 0., 0., 0.])"
      ]
     },
     "execution_count": 13,
     "metadata": {},
     "output_type": "execute_result"
    }
   ],
   "source": [
    "x_train[0]"
   ]
  },
  {
   "cell_type": "code",
   "execution_count": 10,
   "metadata": {},
   "outputs": [
    {
     "data": {
      "text/plain": [
       "array([[0., 1.],\n",
       "       [1., 0.],\n",
       "       [1., 0.],\n",
       "       ...,\n",
       "       [1., 0.],\n",
       "       [0., 1.],\n",
       "       [1., 0.]])"
      ]
     },
     "execution_count": 10,
     "metadata": {},
     "output_type": "execute_result"
    }
   ],
   "source": [
    "y_train"
   ]
  },
  {
   "cell_type": "markdown",
   "metadata": {},
   "source": [
    "### Model definition"
   ]
  },
  {
   "cell_type": "code",
   "execution_count": 11,
   "metadata": {},
   "outputs": [],
   "source": [
    "from keras import models\n",
    "from keras import layers"
   ]
  },
  {
   "cell_type": "code",
   "execution_count": 12,
   "metadata": {},
   "outputs": [],
   "source": [
    "model = models.Sequential()\n",
    "model.add(layers.Dense(16, activation='relu', input_shape=(10000,)))\n",
    "model.add(layers.Dense(16, activation='relu'))\n",
    "model.add(layers.Dense(2, activation='softmax'))"
   ]
  },
  {
   "cell_type": "markdown",
   "metadata": {},
   "source": [
    "### Compiling Model"
   ]
  },
  {
   "cell_type": "code",
   "execution_count": 16,
   "metadata": {},
   "outputs": [],
   "source": [
    "model.compile(optimizer='rmsprop',\n",
    "             loss='categorical_crossentropy',\n",
    "             metrics=['accuracy'])"
   ]
  },
  {
   "cell_type": "markdown",
   "metadata": {},
   "source": [
    "#### OR"
   ]
  },
  {
   "cell_type": "code",
   "execution_count": 15,
   "metadata": {},
   "outputs": [],
   "source": [
    "#If we want to use custom functions for each of the compiling parameters\n",
    "from keras import optimizers\n",
    "from keras import losses\n",
    "from keras import metrics\n",
    "\n",
    "model.compile(optimizer=optimizers.RMSprop(lr=0.001),\n",
    "             loss=losses.categorical_crossentropy,\n",
    "             metrics=[metrics.binary_accuracy])"
   ]
  },
  {
   "cell_type": "markdown",
   "metadata": {},
   "source": [
    "### Creating Validation set"
   ]
  },
  {
   "cell_type": "code",
   "execution_count": 20,
   "metadata": {},
   "outputs": [],
   "source": [
    "x_val, partial_x_train = x_train[:10000], x_train[10000:]\n",
    "y_val, partial_y_train = y_train[:10000], y_train[10000:]"
   ]
  },
  {
   "cell_type": "markdown",
   "metadata": {},
   "source": [
    "### Training"
   ]
  },
  {
   "cell_type": "code",
   "execution_count": 21,
   "metadata": {},
   "outputs": [
    {
     "name": "stdout",
     "output_type": "stream",
     "text": [
      "Train on 15000 samples, validate on 10000 samples\n",
      "Epoch 1/20\n",
      "15000/15000 [==============================] - 4s 237us/step - loss: 0.5136 - acc: 0.7812 - val_loss: 0.3790 - val_acc: 0.8759\n",
      "Epoch 2/20\n",
      "15000/15000 [==============================] - 2s 147us/step - loss: 0.3023 - acc: 0.9003 - val_loss: 0.2978 - val_acc: 0.8915\n",
      "Epoch 3/20\n",
      "15000/15000 [==============================] - 2s 149us/step - loss: 0.2141 - acc: 0.9303 - val_loss: 0.3020 - val_acc: 0.8748\n",
      "Epoch 4/20\n",
      "15000/15000 [==============================] - 2s 157us/step - loss: 0.1690 - acc: 0.9447 - val_loss: 0.2826 - val_acc: 0.8875\n",
      "Epoch 5/20\n",
      "15000/15000 [==============================] - 2s 152us/step - loss: 0.1364 - acc: 0.9565 - val_loss: 0.2869 - val_acc: 0.8863\n",
      "Epoch 6/20\n",
      "15000/15000 [==============================] - 2s 148us/step - loss: 0.1062 - acc: 0.9677 - val_loss: 0.3032 - val_acc: 0.8852\n",
      "Epoch 7/20\n",
      "15000/15000 [==============================] - 2s 148us/step - loss: 0.0875 - acc: 0.9735 - val_loss: 0.3231 - val_acc: 0.8815\n",
      "Epoch 8/20\n",
      "15000/15000 [==============================] - 2s 150us/step - loss: 0.0706 - acc: 0.9797 - val_loss: 0.3852 - val_acc: 0.8686\n",
      "Epoch 9/20\n",
      "15000/15000 [==============================] - 2s 150us/step - loss: 0.0556 - acc: 0.9847 - val_loss: 0.3886 - val_acc: 0.8734\n",
      "Epoch 10/20\n",
      "15000/15000 [==============================] - 2s 155us/step - loss: 0.0422 - acc: 0.9906 - val_loss: 0.4089 - val_acc: 0.8784\n",
      "Epoch 11/20\n",
      "15000/15000 [==============================] - 2s 146us/step - loss: 0.0349 - acc: 0.9911 - val_loss: 0.4471 - val_acc: 0.8771\n",
      "Epoch 12/20\n",
      "15000/15000 [==============================] - 2s 147us/step - loss: 0.0251 - acc: 0.9944 - val_loss: 0.4814 - val_acc: 0.8707\n",
      "Epoch 13/20\n",
      "15000/15000 [==============================] - 2s 145us/step - loss: 0.0198 - acc: 0.9963 - val_loss: 0.5130 - val_acc: 0.8747\n",
      "Epoch 14/20\n",
      "15000/15000 [==============================] - 2s 150us/step - loss: 0.0105 - acc: 0.9992 - val_loss: 0.7313 - val_acc: 0.8523\n",
      "Epoch 15/20\n",
      "15000/15000 [==============================] - 2s 150us/step - loss: 0.0132 - acc: 0.9971 - val_loss: 0.5756 - val_acc: 0.8730\n",
      "Epoch 16/20\n",
      "15000/15000 [==============================] - 2s 150us/step - loss: 0.0152 - acc: 0.9960 - val_loss: 0.6025 - val_acc: 0.8693\n",
      "Epoch 17/20\n",
      "15000/15000 [==============================] - 2s 150us/step - loss: 0.0040 - acc: 0.9997 - val_loss: 0.6301 - val_acc: 0.8677\n",
      "Epoch 18/20\n",
      "15000/15000 [==============================] - 2s 150us/step - loss: 0.0092 - acc: 0.9973 - val_loss: 0.6675 - val_acc: 0.8662\n",
      "Epoch 19/20\n",
      "15000/15000 [==============================] - 2s 148us/step - loss: 0.0021 - acc: 0.9999 - val_loss: 0.6935 - val_acc: 0.8661\n",
      "Epoch 20/20\n",
      "15000/15000 [==============================] - 2s 149us/step - loss: 0.0065 - acc: 0.9980 - val_loss: 0.7332 - val_acc: 0.8626\n"
     ]
    }
   ],
   "source": [
    "history = model.fit(partial_x_train,\n",
    "                     partial_y_train,\n",
    "                     epochs=20,\n",
    "                     batch_size=512,\n",
    "                     validation_data=(x_val, y_val))"
   ]
  },
  {
   "cell_type": "code",
   "execution_count": 22,
   "metadata": {},
   "outputs": [
    {
     "data": {
      "text/plain": [
       "['acc', 'loss', 'val_acc', 'val_loss']"
      ]
     },
     "execution_count": 22,
     "metadata": {},
     "output_type": "execute_result"
    }
   ],
   "source": [
    "history.history.keys()"
   ]
  },
  {
   "cell_type": "code",
   "execution_count": null,
   "metadata": {},
   "outputs": [],
   "source": []
  },
  {
   "cell_type": "markdown",
   "metadata": {},
   "source": [
    "### Plotting the training and validation loss"
   ]
  },
  {
   "cell_type": "code",
   "execution_count": 23,
   "metadata": {},
   "outputs": [],
   "source": [
    "import matplotlib.pyplot as plt"
   ]
  },
  {
   "cell_type": "code",
   "execution_count": 24,
   "metadata": {},
   "outputs": [],
   "source": [
    "history_dict = history.history\n",
    "loss_values = history_dict['loss']\n",
    "val_loss_values = history_dict['val_loss']\n",
    "\n",
    "epochs = range(1,len(loss_values)+1)"
   ]
  },
  {
   "cell_type": "code",
   "execution_count": 25,
   "metadata": {},
   "outputs": [
    {
     "data": {
      "image/png": "[encoded data removed]",
      "text/plain": [
       "<Figure size 432x288 with 1 Axes>"
      ]
     },
     "metadata": {
      "needs_background": "light"
     },
     "output_type": "display_data"
    }
   ],
   "source": [
    "plt.plot(epochs, loss_values, 'r', label='Training Loss')\n",
    "plt.plot(epochs, val_loss_values, 'b', label='Validation Loss')\n",
    "plt.title('Training and validation loss')\n",
    "plt.xlabel('Epochs')\n",
    "plt.ylabel('Loss')\n",
    "plt.legend()\n",
    "plt.show()"
   ]
  },
  {
   "cell_type": "markdown",
   "metadata": {},
   "source": [
    "### Plotting the training and validation accuracy"
   ]
  },
  {
   "cell_type": "code",
   "execution_count": 23,
   "metadata": {},
   "outputs": [],
   "source": [
    "history_dict = history.history\n",
    "acc_values = history_dict['acc']\n",
    "val_acc_values = history_dict['val_acc']\n",
    "\n",
    "epochs = range(1,len(acc_values)+1)"
   ]
  },
  {
   "cell_type": "code",
   "execution_count": 24,
   "metadata": {},
   "outputs": [
    {
     "data": {
      "image/png": "[encoded data removed]",
      "text/plain": [
       "<Figure size 432x288 with 1 Axes>"
      ]
     },
     "metadata": {
      "needs_background": "light"
     },
     "output_type": "display_data"
    }
   ],
   "source": [
    "plt.plot(epochs, acc_values, 'r', label='Training Accuracy')\n",
    "plt.plot(epochs, val_acc_values, 'b', label='Validation Accuracy')\n",
    "plt.title('Training and validation Accuracy')\n",
    "plt.xlabel('Epochs')\n",
    "plt.ylabel('Loss')\n",
    "plt.legend()\n",
    "plt.show()"
   ]
  },
  {
   "cell_type": "markdown",
   "metadata": {},
   "source": [
    "### Prediction"
   ]
  },
  {
   "cell_type": "code",
   "execution_count": 25,
   "metadata": {},
   "outputs": [
    {
     "data": {
      "text/plain": [
       "array([[0.00833665],\n",
       "       [1.        ],\n",
       "       [0.91118455],\n",
       "       ...,\n",
       "       [0.00500611],\n",
       "       [0.01985313],\n",
       "       [0.866945  ]], dtype=float32)"
      ]
     },
     "execution_count": 25,
     "metadata": {},
     "output_type": "execute_result"
    }
   ],
   "source": [
    "model.predict(x_test)"
   ]
  },
  {
   "cell_type": "code",
   "execution_count": null,
   "metadata": {},
   "outputs": [],
   "source": []
  },
  {
   "cell_type": "code",
   "execution_count": 4,
   "metadata": {},
   "outputs": [],
   "source": [
    "from postal.parser import parse_address"
   ]
  },
  {
   "cell_type": "code",
   "execution_count": 11,
   "metadata": {},
   "outputs": [
    {
     "data": {
      "text/plain": [
       "[(u'1902', u'house_number'),\n",
       " (u'19th floor tower b peninsula business park ganpatrao kadam marg', u'road'),\n",
       " (u'lower parel', u'suburb'),\n",
       " (u'mumbai', u'city'),\n",
       " (u'maharashtra', u'state'),\n",
       " (u'400013', u'postcode')]"
      ]
     },
     "execution_count": 11,
     "metadata": {},
     "output_type": "execute_result"
    }
   ],
   "source": [
    "parse_address('1902, 19th Floor, Tower B, Peninsula Business Park, Ganpatrao Kadam Marg, Lower Parel, Mumbai, Maharashtra 400013')"
   ]
  }
 ],
 "metadata": {
  "kernelspec": {
   "display_name": "Python 2",
   "language": "python",
   "name": "python2"
  },
  "language_info": {
   "codemirror_mode": {
    "name": "ipython",
    "version": 2
   },
   "file_extension": ".py",
   "mimetype": "text/x-python",
   "name": "python",
   "nbconvert_exporter": "python",
   "pygments_lexer": "ipython2",
   "version": "2.7.12"
  }
 },
 "nbformat": 4,
 "nbformat_minor": 2
}
